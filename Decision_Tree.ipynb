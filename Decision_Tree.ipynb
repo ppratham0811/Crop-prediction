{
 "cells": [
  {
   "cell_type": "markdown",
   "id": "e6bd5b1b",
   "metadata": {},
   "source": [
    "# Crop Recommendation using Decision Tree"
   ]
  },
  {
   "cell_type": "code",
   "execution_count": 2,
   "id": "17a020e1",
   "metadata": {
    "scrolled": false
   },
   "outputs": [
    {
     "name": "stdout",
     "output_type": "stream",
     "text": [
      "       N   P   K  temperature   humidity        ph   rainfall      label\n",
      "0      4  46  15    31.012749  62.403925  3.504752  63.771924  mothbeans\n",
      "1     36  43  24    27.094006  43.653054  3.510404  41.537495  mothbeans\n",
      "2     19  51  25    26.804744  48.239914  3.525366  43.878020  mothbeans\n",
      "3     16  51  21    31.019636  49.976752  3.532009  32.812965  mothbeans\n",
      "4     35  51  17    28.799292  49.842134  3.558823  40.855347  mothbeans\n",
      "...   ..  ..  ..          ...        ...       ...        ...        ...\n",
      "2195  28  57  17    30.477577  61.582453  9.416003  61.866339  mothbeans\n",
      "2196  25  51  18    27.777995  54.821308  9.459493  50.284387  mothbeans\n",
      "2197   5  35  20    28.929526  53.570147  9.679241  66.356341  mothbeans\n",
      "2198   7  45  22    25.506346  44.830255  9.926212  74.326351  mothbeans\n",
      "2199  35  52  15    28.698413  61.147544  9.935091  65.675918  mothbeans\n",
      "\n",
      "[2200 rows x 8 columns]\n"
     ]
    }
   ],
   "source": [
    "import pandas as pd\n",
    "import math\n",
    "from sklearn import tree\n",
    "df = pd.read_csv(\"Crop_recommendation.csv\")\n",
    "\n",
    "print(df)"
   ]
  },
  {
   "cell_type": "code",
   "execution_count": 3,
   "id": "09d16eb7",
   "metadata": {
    "scrolled": false
   },
   "outputs": [
    {
     "name": "stderr",
     "output_type": "stream",
     "text": [
      "C:\\Users\\om\\AppData\\Local\\Temp/ipykernel_13272/2726541660.py:9: SettingWithCopyWarning: \n",
      "A value is trying to be set on a copy of a slice from a DataFrame\n",
      "\n",
      "See the caveats in the documentation: https://pandas.pydata.org/pandas-docs/stable/user_guide/indexing.html#returning-a-view-versus-a-copy\n",
      "  df[attr][i] = 5 * q + 2\n"
     ]
    }
   ],
   "source": [
    "# Arranging N,P,K\n",
    "\n",
    "\n",
    "for attr in df.columns.values[0:3]:\n",
    "    for i in range(0, len(list(df[attr]))):\n",
    "        q = df[attr][i] // 5\n",
    "        df[attr][i] = 5 * q + 2\n"
   ]
  },
  {
   "cell_type": "code",
   "execution_count": 4,
   "id": "2df85845",
   "metadata": {
    "scrolled": true
   },
   "outputs": [
    {
     "name": "stderr",
     "output_type": "stream",
     "text": [
      "C:\\Users\\om\\AppData\\Local\\Temp/ipykernel_13272/4291431125.py:5: SettingWithCopyWarning: \n",
      "A value is trying to be set on a copy of a slice from a DataFrame\n",
      "\n",
      "See the caveats in the documentation: https://pandas.pydata.org/pandas-docs/stable/user_guide/indexing.html#returning-a-view-versus-a-copy\n",
      "  df[x][i] = math.floor(df[x][i])\n",
      "C:\\Users\\om\\AppData\\Local\\Temp/ipykernel_13272/4291431125.py:7: SettingWithCopyWarning: \n",
      "A value is trying to be set on a copy of a slice from a DataFrame\n",
      "\n",
      "See the caveats in the documentation: https://pandas.pydata.org/pandas-docs/stable/user_guide/indexing.html#returning-a-view-versus-a-copy\n",
      "  df[x][i] = 5 * q + 2\n",
      "C:\\Users\\om\\AppData\\Local\\Temp/ipykernel_13272/4291431125.py:10: SettingWithCopyWarning: \n",
      "A value is trying to be set on a copy of a slice from a DataFrame\n",
      "\n",
      "See the caveats in the documentation: https://pandas.pydata.org/pandas-docs/stable/user_guide/indexing.html#returning-a-view-versus-a-copy\n",
      "  df['ph'][i] = math.floor(df['ph'][i])\n",
      "C:\\Users\\om\\AppData\\Local\\Temp/ipykernel_13272/4291431125.py:14: SettingWithCopyWarning: \n",
      "A value is trying to be set on a copy of a slice from a DataFrame\n",
      "\n",
      "See the caveats in the documentation: https://pandas.pydata.org/pandas-docs/stable/user_guide/indexing.html#returning-a-view-versus-a-copy\n",
      "  df['rainfall'][i] = 5 * q + 2\n"
     ]
    },
    {
     "name": "stdout",
     "output_type": "stream",
     "text": [
      "       N   P   K  temperature  humidity   ph  rainfall      label\n",
      "0      2  47  17         32.0      62.0  3.0      62.0  mothbeans\n",
      "1     37  42  22         27.0      42.0  3.0      42.0  mothbeans\n",
      "2     17  52  27         27.0      47.0  3.0      42.0  mothbeans\n",
      "3     17  52  22         32.0      47.0  3.0      32.0  mothbeans\n",
      "4     37  52  17         27.0      47.0  3.0      42.0  mothbeans\n",
      "...   ..  ..  ..          ...       ...  ...       ...        ...\n",
      "2195  27  57  17         32.0      62.0  9.0      62.0  mothbeans\n",
      "2196  27  52  17         27.0      52.0  9.0      52.0  mothbeans\n",
      "2197   7  37  22         27.0      52.0  9.0      67.0  mothbeans\n",
      "2198   7  47  22         27.0      42.0  9.0      72.0  mothbeans\n",
      "2199  37  52  17         27.0      62.0  9.0      67.0  mothbeans\n",
      "\n",
      "[2200 rows x 8 columns]\n"
     ]
    }
   ],
   "source": [
    "alls = ['temperature', 'humidity']\n",
    "\n",
    "for x in alls:\n",
    "    for i in range(0, len(list(df[x]))):\n",
    "        df[x][i] = math.floor(df[x][i])\n",
    "        q = df[x][i] // 5\n",
    "        df[x][i] = 5 * q + 2\n",
    "        \n",
    "for i in range(0, len(list(df['ph']))):\n",
    "    df['ph'][i] = math.floor(df['ph'][i])\n",
    "    \n",
    "for i in range(0, len(list(df['rainfall']))):\n",
    "        q = df['rainfall'][i] // 5\n",
    "        df['rainfall'][i] = 5 * q + 2\n",
    "\n",
    "print(df)"
   ]
  },
  {
   "cell_type": "code",
   "execution_count": null,
   "id": "b78d139b",
   "metadata": {},
   "outputs": [],
   "source": []
  },
  {
   "cell_type": "code",
   "execution_count": 5,
   "id": "387ea3fc",
   "metadata": {},
   "outputs": [
    {
     "name": "stdout",
     "output_type": "stream",
     "text": [
      "X test data\n",
      "\n",
      "        N    P    K  temperature  humidity   ph  rainfall\n",
      "1299  107   17   52         27.0      92.0  6.0      22.0\n",
      "2022    7   62   22         27.0      67.0  7.0      42.0\n",
      "290    32   77   17         22.0      22.0  5.0      82.0\n",
      "915   112   32   52         27.0      82.0  6.0      42.0\n",
      "1587   87   37   32         27.0      52.0  6.0     132.0\n",
      "574    22  142  197         37.0      82.0  6.0      67.0\n",
      "111    42   22   27         27.0      52.0  5.0      97.0\n",
      "1042   72   42   42         27.0      82.0  6.0     167.0\n",
      "260    32   17   32         27.0      92.0  5.0     222.0\n",
      "1537   67   52   22         22.0      72.0  6.0     107.0\n",
      "1769   77   42   37         22.0      82.0  7.0     212.0\n",
      "1509   32   57   22         27.0      87.0  6.0      42.0\n",
      "1726   57   57   52         37.0      92.0  6.0     107.0\n",
      "542    97   57   37         27.0      82.0  5.0     272.0\n",
      "308   102   72   52         27.0      82.0  5.0     112.0\n",
      "954    37   37   17         27.0      87.0  6.0      57.0\n",
      "1851  117   47   17         27.0      82.0  7.0      87.0\n",
      "2030   42   72   82         17.0      12.0  7.0      67.0\n",
      "826    22  142  197         12.0      82.0  6.0      67.0\n",
      "2014   42   67   22         27.0      67.0  7.0      67.0\n",
      "Actual Output: \n",
      "\n",
      "1299      muskmelon\n",
      "2022         lentil\n",
      "290     kidneybeans\n",
      "915      watermelon\n",
      "1587         coffee\n",
      "574          grapes\n",
      "111           mango\n",
      "1042           jute\n",
      "260         coconut\n",
      "1537          maize\n",
      "1769           rice\n",
      "1509       mungbean\n",
      "1726         papaya\n",
      "542            rice\n",
      "308          banana\n",
      "954        mungbean\n",
      "1851         cotton\n",
      "2030       chickpea\n",
      "826          grapes\n",
      "2014      blackgram\n",
      "Name: label, dtype: object\n",
      "\n",
      "\n",
      "Y predicted data\n",
      "\n",
      "['muskmelon' 'lentil' 'kidneybeans' 'watermelon' 'coffee' 'grapes' 'mango'\n",
      " 'jute' 'coconut' 'maize' 'rice' 'mungbean' 'papaya' 'rice' 'banana'\n",
      " 'mungbean' 'cotton' 'chickpea' 'grapes' 'blackgram']\n"
     ]
    }
   ],
   "source": [
    "from sklearn.tree import DecisionTreeClassifier\n",
    "from sklearn.model_selection import train_test_split \n",
    "from sklearn import tree\n",
    "\n",
    "col_names=['N' , 'P' , 'K', 'temperature', 'humidity', 'ph', 'rainfall', 'label']\n",
    "\n",
    "\n",
    "feature_cols = ['N' , 'P' , 'K', 'temperature', 'humidity', 'ph', 'rainfall']\n",
    "X = df[feature_cols] # Features\n",
    "y = df.label # Target variable\n",
    "\n",
    "\n",
    "X_train, X_test, y_train, y_test = train_test_split(X, y, test_size=0.5, random_state=24)\n",
    "\n",
    "\n",
    "\n",
    "model_dec = DecisionTreeClassifier()\n",
    "\n",
    "# Train Decision Tree Classifer\n",
    "model_dec = model_dec.fit(X_train,y_train)\n",
    "\n",
    "#Predict the response for test dataset\n",
    "y_pred = model_dec.predict(X_test)\n",
    "\n",
    "print(\"X test data\\n\")\n",
    "print(X_test[0:20])\n",
    "\n",
    "print(\"Actual Output: \\n\")\n",
    "print(y_test[0:20])\n",
    "print(\"\\n\")\n",
    "print(\"Y predicted data\\n\")\n",
    "print(y_pred[0:20])\n",
    "\n",
    "\n"
   ]
  },
  {
   "cell_type": "code",
   "execution_count": 6,
   "id": "5d9c8ea3",
   "metadata": {},
   "outputs": [
    {
     "name": "stdout",
     "output_type": "stream",
     "text": [
      "\n",
      "Accuracy is:  0.9890909090909091\n"
     ]
    }
   ],
   "source": [
    "from sklearn import metrics\n",
    "\n",
    "accuracy = metrics.accuracy_score(y_test, y_pred)\n",
    "\n",
    "print(\"\\nAccuracy is: \",accuracy)"
   ]
  }
 ],
 "metadata": {
  "kernelspec": {
   "display_name": "Python 3 (ipykernel)",
   "language": "python",
   "name": "python3"
  },
  "language_info": {
   "codemirror_mode": {
    "name": "ipython",
    "version": 3
   },
   "file_extension": ".py",
   "mimetype": "text/x-python",
   "name": "python",
   "nbconvert_exporter": "python",
   "pygments_lexer": "ipython3",
   "version": "3.9.7"
  }
 },
 "nbformat": 4,
 "nbformat_minor": 5
}
