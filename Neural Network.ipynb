{
 "cells": [
  {
   "cell_type": "code",
   "execution_count": 1,
   "id": "527fd1cc",
   "metadata": {},
   "outputs": [],
   "source": [
    "#Importing necessary Libraries\n",
    "import numpy as np\n",
    "import pandas as pd\n",
    "import tensorflow as tf"
   ]
  },
  {
   "cell_type": "code",
   "execution_count": 37,
   "id": "813dca0d",
   "metadata": {},
   "outputs": [],
   "source": [
    "#Loading Dataset\n",
    "data = pd.read_csv(\"Crop_recommendation.csv\")"
   ]
  },
  {
   "cell_type": "code",
   "execution_count": 38,
   "id": "5a80c434",
   "metadata": {},
   "outputs": [],
   "source": [
    "#Generating Matrix of Features\n",
    "X = data.iloc[:,:-1].values"
   ]
  },
  {
   "cell_type": "code",
   "execution_count": 41,
   "id": "fc06e6b8",
   "metadata": {},
   "outputs": [
    {
     "data": {
      "text/plain": [
       "(2200,)"
      ]
     },
     "execution_count": 41,
     "metadata": {},
     "output_type": "execute_result"
    }
   ],
   "source": [
    "#Generating Dependent Variable Vectors\n",
    "Y = data.iloc[:,-1].values"
   ]
  },
  {
   "cell_type": "code",
   "execution_count": 55,
   "id": "a42bd1c0",
   "metadata": {},
   "outputs": [],
   "source": [
    "Y = pd.factorize( Y)[0]"
   ]
  },
  {
   "cell_type": "code",
   "execution_count": 56,
   "id": "6fa8b7aa",
   "metadata": {},
   "outputs": [
    {
     "name": "stdout",
     "output_type": "stream",
     "text": [
      "[ 0  0  0 ... 21 21 21]\n"
     ]
    }
   ],
   "source": [
    "print(Y)"
   ]
  },
  {
   "cell_type": "code",
   "execution_count": 57,
   "id": "1bec213a",
   "metadata": {},
   "outputs": [],
   "source": [
    "#Splitting dataset into training and testing dataset\n",
    "from sklearn.model_selection import train_test_split\n",
    "X_train,X_test,Y_train,Y_test = train_test_split(X,Y,test_size=0.2,random_state=0)"
   ]
  },
  {
   "cell_type": "code",
   "execution_count": 58,
   "id": "4ebad8b1",
   "metadata": {},
   "outputs": [],
   "source": [
    "#Performing Feature Scaling\n",
    "from sklearn.preprocessing import StandardScaler\n",
    "sc = StandardScaler()\n",
    "X_train = sc.fit_transform(X_train)\n",
    "X_test = sc.transform(X_test)"
   ]
  },
  {
   "cell_type": "code",
   "execution_count": 59,
   "id": "fe6c9261",
   "metadata": {},
   "outputs": [],
   "source": [
    "ann = tf.keras.models.Sequential()"
   ]
  },
  {
   "cell_type": "code",
   "execution_count": 60,
   "id": "d4001e69",
   "metadata": {},
   "outputs": [],
   "source": [
    "#Adding First Hidden Layer\n",
    "ann.add(tf.keras.layers.Dense(units=6,activation=\"relu\"))"
   ]
  },
  {
   "cell_type": "code",
   "execution_count": 61,
   "id": "897ca1b1",
   "metadata": {},
   "outputs": [],
   "source": [
    "#Adding Second Hidden Layer\n",
    "ann.add(tf.keras.layers.Dense(units=6,activation=\"relu\"))"
   ]
  },
  {
   "cell_type": "code",
   "execution_count": 62,
   "id": "ac63776b",
   "metadata": {},
   "outputs": [],
   "source": [
    "#Adding Output Layer\n",
    "ann.add(tf.keras.layers.Dense(units=1,activation=\"softmax\"))"
   ]
  },
  {
   "cell_type": "code",
   "execution_count": 63,
   "id": "7a6c06fb",
   "metadata": {},
   "outputs": [],
   "source": [
    "#Compiling ANN\n",
    "ann.compile(optimizer=\"adam\",loss=\"binary_crossentropy\",metrics=['accuracy'])"
   ]
  },
  {
   "cell_type": "code",
   "execution_count": 64,
   "id": "a1f6fe75",
   "metadata": {
    "scrolled": false
   },
   "outputs": [
    {
     "name": "stdout",
     "output_type": "stream",
     "text": [
      "Epoch 1/100\n",
      "55/55 [==============================] - 2s 3ms/step - loss: -8.7237 - accuracy: 0.0466\n",
      "Epoch 2/100\n",
      "55/55 [==============================] - 0s 3ms/step - loss: -15.4752 - accuracy: 0.0466\n",
      "Epoch 3/100\n",
      "55/55 [==============================] - 0s 3ms/step - loss: -26.2412 - accuracy: 0.0466\n",
      "Epoch 4/100\n",
      "55/55 [==============================] - 0s 2ms/step - loss: -42.6129 - accuracy: 0.0466\n",
      "Epoch 5/100\n",
      "55/55 [==============================] - 0s 3ms/step - loss: -67.4869 - accuracy: 0.0466\n",
      "Epoch 6/100\n",
      "55/55 [==============================] - 0s 2ms/step - loss: -106.1517 - accuracy: 0.0466\n",
      "Epoch 7/100\n",
      "55/55 [==============================] - 0s 2ms/step - loss: -165.8221 - accuracy: 0.0466\n",
      "Epoch 8/100\n",
      "55/55 [==============================] - 0s 2ms/step - loss: -253.6795 - accuracy: 0.0466\n",
      "Epoch 9/100\n",
      "55/55 [==============================] - 0s 2ms/step - loss: -374.0855 - accuracy: 0.0466\n",
      "Epoch 10/100\n",
      "55/55 [==============================] - 0s 3ms/step - loss: -530.3225 - accuracy: 0.0466\n",
      "Epoch 11/100\n",
      "55/55 [==============================] - 0s 3ms/step - loss: -729.0971 - accuracy: 0.0466\n",
      "Epoch 12/100\n",
      "55/55 [==============================] - 0s 3ms/step - loss: -975.8146 - accuracy: 0.0466\n",
      "Epoch 13/100\n",
      "55/55 [==============================] - 0s 5ms/step - loss: -1272.9661 - accuracy: 0.0466\n",
      "Epoch 14/100\n",
      "55/55 [==============================] - 0s 2ms/step - loss: -1628.1742 - accuracy: 0.0466\n",
      "Epoch 15/100\n",
      "55/55 [==============================] - 0s 2ms/step - loss: -2043.8997 - accuracy: 0.0466\n",
      "Epoch 16/100\n",
      "55/55 [==============================] - 0s 2ms/step - loss: -2522.1514 - accuracy: 0.0466\n",
      "Epoch 17/100\n",
      "55/55 [==============================] - 0s 3ms/step - loss: -3067.3704 - accuracy: 0.0466\n",
      "Epoch 18/100\n",
      "55/55 [==============================] - 0s 2ms/step - loss: -3683.2163 - accuracy: 0.0466\n",
      "Epoch 19/100\n",
      "55/55 [==============================] - 0s 2ms/step - loss: -4366.1675 - accuracy: 0.0466\n",
      "Epoch 20/100\n",
      "55/55 [==============================] - 0s 2ms/step - loss: -5124.4761 - accuracy: 0.0466\n",
      "Epoch 21/100\n",
      "55/55 [==============================] - 0s 2ms/step - loss: -5959.8950 - accuracy: 0.0466\n",
      "Epoch 22/100\n",
      "55/55 [==============================] - 0s 2ms/step - loss: -6869.7979 - accuracy: 0.0466\n",
      "Epoch 23/100\n",
      "55/55 [==============================] - 0s 2ms/step - loss: -7855.2427 - accuracy: 0.0466\n",
      "Epoch 24/100\n",
      "55/55 [==============================] - 0s 2ms/step - loss: -8924.3828 - accuracy: 0.0466\n",
      "Epoch 25/100\n",
      "55/55 [==============================] - 0s 2ms/step - loss: -10070.3848 - accuracy: 0.0466\n",
      "Epoch 26/100\n",
      "55/55 [==============================] - 0s 2ms/step - loss: -11304.8721 - accuracy: 0.0466\n",
      "Epoch 27/100\n",
      "55/55 [==============================] - 0s 2ms/step - loss: -12618.1133 - accuracy: 0.0466\n",
      "Epoch 28/100\n",
      "55/55 [==============================] - 0s 3ms/step - loss: -14017.1475 - accuracy: 0.0466\n",
      "Epoch 29/100\n",
      "55/55 [==============================] - 0s 2ms/step - loss: -15505.4785 - accuracy: 0.0466\n",
      "Epoch 30/100\n",
      "55/55 [==============================] - 0s 2ms/step - loss: -17090.4375 - accuracy: 0.0466\n",
      "Epoch 31/100\n",
      "55/55 [==============================] - 0s 2ms/step - loss: -18755.6504 - accuracy: 0.0466\n",
      "Epoch 32/100\n",
      "55/55 [==============================] - 0s 2ms/step - loss: -20514.7910 - accuracy: 0.0466\n",
      "Epoch 33/100\n",
      "55/55 [==============================] - 0s 2ms/step - loss: -22370.1934 - accuracy: 0.0466\n",
      "Epoch 34/100\n",
      "55/55 [==============================] - 0s 2ms/step - loss: -24311.5820 - accuracy: 0.0466\n",
      "Epoch 35/100\n",
      "55/55 [==============================] - 0s 2ms/step - loss: -26357.0879 - accuracy: 0.0466\n",
      "Epoch 36/100\n",
      "55/55 [==============================] - 0s 2ms/step - loss: -28497.4004 - accuracy: 0.0466\n",
      "Epoch 37/100\n",
      "55/55 [==============================] - 0s 2ms/step - loss: -30730.0820 - accuracy: 0.0466\n",
      "Epoch 38/100\n",
      "55/55 [==============================] - 0s 2ms/step - loss: -33054.4961 - accuracy: 0.0466\n",
      "Epoch 39/100\n",
      "55/55 [==============================] - 0s 2ms/step - loss: -35480.7109 - accuracy: 0.0466\n",
      "Epoch 40/100\n",
      "55/55 [==============================] - 0s 2ms/step - loss: -38009.6562 - accuracy: 0.0466\n",
      "Epoch 41/100\n",
      "55/55 [==============================] - 0s 2ms/step - loss: -40636.6875 - accuracy: 0.0466\n",
      "Epoch 42/100\n",
      "55/55 [==============================] - 0s 2ms/step - loss: -43356.8281 - accuracy: 0.0466\n",
      "Epoch 43/100\n",
      "55/55 [==============================] - 0s 2ms/step - loss: -46187.4805 - accuracy: 0.0466\n",
      "Epoch 44/100\n",
      "55/55 [==============================] - 0s 2ms/step - loss: -49115.0234 - accuracy: 0.0466\n",
      "Epoch 45/100\n",
      "55/55 [==============================] - 0s 2ms/step - loss: -52153.7617 - accuracy: 0.0466\n",
      "Epoch 46/100\n",
      "55/55 [==============================] - 0s 2ms/step - loss: -55275.7617 - accuracy: 0.0466\n",
      "Epoch 47/100\n",
      "55/55 [==============================] - 0s 2ms/step - loss: -58530.9688 - accuracy: 0.0466\n",
      "Epoch 48/100\n",
      "55/55 [==============================] - 0s 2ms/step - loss: -61873.3945 - accuracy: 0.0466\n",
      "Epoch 49/100\n",
      "55/55 [==============================] - 0s 2ms/step - loss: -65332.1953 - accuracy: 0.0466\n",
      "Epoch 50/100\n",
      "55/55 [==============================] - 0s 2ms/step - loss: -68884.7891 - accuracy: 0.0466\n",
      "Epoch 51/100\n",
      "55/55 [==============================] - 0s 4ms/step - loss: -72558.9219 - accuracy: 0.0466\n",
      "Epoch 52/100\n",
      "55/55 [==============================] - 0s 3ms/step - loss: -76328.5625 - accuracy: 0.0466\n",
      "Epoch 53/100\n",
      "55/55 [==============================] - 0s 2ms/step - loss: -80211.5625 - accuracy: 0.0466\n",
      "Epoch 54/100\n",
      "55/55 [==============================] - 0s 2ms/step - loss: -84207.4531 - accuracy: 0.0466\n",
      "Epoch 55/100\n",
      "55/55 [==============================] - 0s 2ms/step - loss: -88307.8281 - accuracy: 0.0466\n",
      "Epoch 56/100\n",
      "55/55 [==============================] - 0s 2ms/step - loss: -92518.3203 - accuracy: 0.0466\n",
      "Epoch 57/100\n",
      "55/55 [==============================] - 0s 2ms/step - loss: -96854.1172 - accuracy: 0.0466\n",
      "Epoch 58/100\n",
      "55/55 [==============================] - 0s 2ms/step - loss: -101282.9922 - accuracy: 0.0466\n",
      "Epoch 59/100\n",
      "55/55 [==============================] - 0s 2ms/step - loss: -105823.4844 - accuracy: 0.0466\n",
      "Epoch 60/100\n",
      "55/55 [==============================] - 0s 2ms/step - loss: -110499.1250 - accuracy: 0.0466\n",
      "Epoch 61/100\n",
      "55/55 [==============================] - 0s 2ms/step - loss: -115273.4453 - accuracy: 0.0466\n",
      "Epoch 62/100\n",
      "55/55 [==============================] - 0s 2ms/step - loss: -120151.1797 - accuracy: 0.0466\n",
      "Epoch 63/100\n",
      "55/55 [==============================] - 0s 2ms/step - loss: -125153.9922 - accuracy: 0.0466\n",
      "Epoch 64/100\n",
      "55/55 [==============================] - 0s 2ms/step - loss: -130286.9531 - accuracy: 0.0466\n",
      "Epoch 65/100\n",
      "55/55 [==============================] - 0s 3ms/step - loss: -135511.4219 - accuracy: 0.0466\n",
      "Epoch 66/100\n",
      "55/55 [==============================] - 0s 2ms/step - loss: -140856.6250 - accuracy: 0.0466\n",
      "Epoch 67/100\n",
      "55/55 [==============================] - 0s 2ms/step - loss: -146317.3281 - accuracy: 0.0466\n",
      "Epoch 68/100\n",
      "55/55 [==============================] - 0s 2ms/step - loss: -151913.4062 - accuracy: 0.0466\n",
      "Epoch 69/100\n",
      "55/55 [==============================] - 0s 2ms/step - loss: -157610.5469 - accuracy: 0.0466\n",
      "Epoch 70/100\n",
      "55/55 [==============================] - 0s 2ms/step - loss: -163441.8750 - accuracy: 0.0466\n",
      "Epoch 71/100\n",
      "55/55 [==============================] - 0s 2ms/step - loss: -169378.0781 - accuracy: 0.0466\n",
      "Epoch 72/100\n",
      "55/55 [==============================] - 0s 2ms/step - loss: -175457.7812 - accuracy: 0.0466\n",
      "Epoch 73/100\n",
      "55/55 [==============================] - 0s 2ms/step - loss: -181630.5781 - accuracy: 0.0466\n",
      "Epoch 74/100\n",
      "55/55 [==============================] - 0s 2ms/step - loss: -187928.6406 - accuracy: 0.0466\n",
      "Epoch 75/100\n",
      "55/55 [==============================] - 0s 2ms/step - loss: -194366.5469 - accuracy: 0.0466\n",
      "Epoch 76/100\n",
      "55/55 [==============================] - 0s 2ms/step - loss: -200911.1562 - accuracy: 0.0466\n",
      "Epoch 77/100\n",
      "55/55 [==============================] - 0s 2ms/step - loss: -207588.5469 - accuracy: 0.0466\n",
      "Epoch 78/100\n",
      "55/55 [==============================] - 0s 2ms/step - loss: -214396.7031 - accuracy: 0.0466\n",
      "Epoch 79/100\n"
     ]
    },
    {
     "name": "stdout",
     "output_type": "stream",
     "text": [
      "55/55 [==============================] - 0s 2ms/step - loss: -221312.5781 - accuracy: 0.0466\n",
      "Epoch 80/100\n",
      "55/55 [==============================] - 0s 2ms/step - loss: -228358.5938 - accuracy: 0.0466\n",
      "Epoch 81/100\n",
      "55/55 [==============================] - 0s 2ms/step - loss: -235525.7500 - accuracy: 0.0466\n",
      "Epoch 82/100\n",
      "55/55 [==============================] - 0s 2ms/step - loss: -242824.9688 - accuracy: 0.0466\n",
      "Epoch 83/100\n",
      "55/55 [==============================] - 0s 2ms/step - loss: -250245.6250 - accuracy: 0.0466\n",
      "Epoch 84/100\n",
      "55/55 [==============================] - 0s 2ms/step - loss: -257831.0312 - accuracy: 0.0466\n",
      "Epoch 85/100\n",
      "55/55 [==============================] - 0s 2ms/step - loss: -265491.4062 - accuracy: 0.0466\n",
      "Epoch 86/100\n",
      "55/55 [==============================] - 0s 2ms/step - loss: -273307.0938 - accuracy: 0.0466\n",
      "Epoch 87/100\n",
      "55/55 [==============================] - 0s 2ms/step - loss: -281234.8438 - accuracy: 0.0466\n",
      "Epoch 88/100\n",
      "55/55 [==============================] - 0s 2ms/step - loss: -289345.3125 - accuracy: 0.0466\n",
      "Epoch 89/100\n",
      "55/55 [==============================] - 0s 2ms/step - loss: -297525.1250 - accuracy: 0.0466\n",
      "Epoch 90/100\n",
      "55/55 [==============================] - 0s 2ms/step - loss: -305855.2812 - accuracy: 0.0466\n",
      "Epoch 91/100\n",
      "55/55 [==============================] - 0s 2ms/step - loss: -314326.8750 - accuracy: 0.0466\n",
      "Epoch 92/100\n",
      "55/55 [==============================] - 0s 2ms/step - loss: -322935.1562 - accuracy: 0.0466\n",
      "Epoch 93/100\n",
      "55/55 [==============================] - 0s 2ms/step - loss: -331630.8125 - accuracy: 0.0466\n",
      "Epoch 94/100\n",
      "55/55 [==============================] - 0s 4ms/step - loss: -340499.7188 - accuracy: 0.0466\n",
      "Epoch 95/100\n",
      "55/55 [==============================] - 0s 3ms/step - loss: -349508.3750 - accuracy: 0.0466\n",
      "Epoch 96/100\n",
      "55/55 [==============================] - 0s 3ms/step - loss: -358620.5312 - accuracy: 0.0466\n",
      "Epoch 97/100\n",
      "55/55 [==============================] - 0s 3ms/step - loss: -367917.9375 - accuracy: 0.0466\n",
      "Epoch 98/100\n",
      "55/55 [==============================] - 0s 3ms/step - loss: -377291.9375 - accuracy: 0.0466\n",
      "Epoch 99/100\n",
      "55/55 [==============================] - 0s 3ms/step - loss: -386835.0312 - accuracy: 0.0466\n",
      "Epoch 100/100\n",
      "55/55 [==============================] - 0s 3ms/step - loss: -396523.9062 - accuracy: 0.0466\n"
     ]
    },
    {
     "data": {
      "text/plain": [
       "<keras.callbacks.History at 0x1b65df55880>"
      ]
     },
     "execution_count": 64,
     "metadata": {},
     "output_type": "execute_result"
    }
   ],
   "source": [
    "#Fitting ANN\n",
    "X_train = X_train.astype(float)\n",
    "ann.fit(X_train,Y_train,batch_size=32,epochs = 100)"
   ]
  }
 ],
 "metadata": {
  "kernelspec": {
   "display_name": "Python 3 (ipykernel)",
   "language": "python",
   "name": "python3"
  },
  "language_info": {
   "codemirror_mode": {
    "name": "ipython",
    "version": 3
   },
   "file_extension": ".py",
   "mimetype": "text/x-python",
   "name": "python",
   "nbconvert_exporter": "python",
   "pygments_lexer": "ipython3",
   "version": "3.9.4"
  }
 },
 "nbformat": 4,
 "nbformat_minor": 5
}
